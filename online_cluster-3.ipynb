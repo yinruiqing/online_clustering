{
 "cells": [
  {
   "cell_type": "code",
   "execution_count": 1,
   "metadata": {
    "collapsed": false
   },
   "outputs": [
    {
     "name": "stdout",
     "output_type": "stream",
     "text": [
      "Populating the interactive namespace from numpy and matplotlib\n"
     ]
    }
   ],
   "source": [
    "%pylab inline\n",
    "%load_ext autoreload\n",
    "%autoreload 2"
   ]
  },
  {
   "cell_type": "code",
   "execution_count": 2,
   "metadata": {
    "collapsed": true
   },
   "outputs": [],
   "source": [
    "import numpy as np\n",
    "from pyannote.core import Annotation,Segment, Timeline"
   ]
  },
  {
   "cell_type": "code",
   "execution_count": 5,
   "metadata": {
    "collapsed": false
   },
   "outputs": [],
   "source": [
    "import clustering"
   ]
  },
  {
   "cell_type": "markdown",
   "metadata": {},
   "source": [
    "## Precompute embeddings"
   ]
  },
  {
   "cell_type": "code",
   "execution_count": 6,
   "metadata": {
    "collapsed": false
   },
   "outputs": [
    {
     "name": "stderr",
     "output_type": "stream",
     "text": [
      "Using Theano backend.\n",
      "/people/yin/anaconda3/envs/pyannote_35/lib/python3.5/site-packages/matplotlib/__init__.py:1405: UserWarning: \n",
      "This call to matplotlib.use() has no effect because the backend has already\n",
      "been chosen; matplotlib.use() must be called *before* pylab, matplotlib.pyplot,\n",
      "or matplotlib.backends is imported for the first time.\n",
      "\n",
      "  warnings.warn(_use_error_msg)\n"
     ]
    }
   ],
   "source": [
    "from pyannote.audio.keras_utils import load_model\n",
    "from pyannote.audio.features import YaafeMFCC\n",
    "from pyannote.audio.embedding.extraction import SequenceEmbedding\n",
    "\n",
    "PRETRAINED_TRISTOUNET = '/people/yin/projects/pyannote-audio/tutorials/speaker-embedding/2+0.5/TristouNet/train/Etape.SpeakerDiarization.TV.train/weights/0986.h5'\n",
    "model = load_model(PRETRAINED_TRISTOUNET)\n",
    "\n",
    "feature_extraction = YaafeMFCC(duration=0.032, step=0.020, sample_rate=16000,\n",
    "                               coefs=11, D=True, DD=True,\n",
    "                               e=False, De=True, DDe=True)\n",
    "\n",
    "duration, step = 2, 1\n",
    "sequence_embedding = SequenceEmbedding(model, feature_extraction, \n",
    "                                       duration, step=step)\n"
   ]
  },
  {
   "cell_type": "code",
   "execution_count": 7,
   "metadata": {
    "collapsed": false
   },
   "outputs": [
    {
     "name": "stderr",
     "output_type": "stream",
     "text": [
      "Training set: 28it [01:05,  1.43s/it]\n",
      "Development set: 9it [00:19,  1.90s/it]\n",
      "Test set: 9it [00:19,  1.89s/it]\n"
     ]
    }
   ],
   "source": [
    "from itertools import chain\n",
    "from pyannote.database import get_protocol, get_unique_identifier\n",
    "from pyannote.audio.embedding.extraction import SequenceEmbedding\n",
    "from pyannote.database import FileFinder\n",
    "\n",
    "protocol = get_protocol('Etape.SpeakerDiarization.TV', preprocessors={'audio': FileFinder()}, progress=True)\n",
    "embeddings = {}\n",
    "for current_file in chain(protocol.train(), protocol.development(), protocol.test()):\n",
    "    embeddings[get_unique_identifier(current_file)] = sequence_embedding.apply(current_file)"
   ]
  },
  {
   "cell_type": "markdown",
   "metadata": {},
   "source": [
    "## Online clustering"
   ]
  },
  {
   "cell_type": "code",
   "execution_count": 8,
   "metadata": {
    "collapsed": false
   },
   "outputs": [],
   "source": [
    "from pyannote.audio.features import Precomputed\n",
    "\n",
    "score_path = '/vol/work1/yin/speech_activity_detection/shallow/train/REPERE.SpeakerDiarization.All.train/tune/Etape.SpeakerDiarization.TV.development/apply/'\n",
    "score_precomputed = Precomputed(score_path)"
   ]
  },
  {
   "cell_type": "code",
   "execution_count": 10,
   "metadata": {
    "collapsed": false
   },
   "outputs": [
    {
     "name": "stderr",
     "output_type": "stream",
     "text": [
      "Development set: 0it [00:00, ?it/s]\n"
     ]
    }
   ],
   "source": [
    "for current_file in protocol.development():\n",
    "    onlineCluster = clustering.OnlineClustering(get_unique_identifier(current_file))\n",
    "    annotation = current_file['annotation']\n",
    "    timeline = annotation.get_timeline()\n",
    "    embedding = embeddings[get_unique_identifier(current_file)]\n",
    "    sad_score = score_precomputed(current_file)\n",
    "    for segment in timeline:\n",
    "        if np.mean(sad_score.crop(segment), axis=0)[1] < 0.5:\n",
    "            continue\n",
    "        data = {}\n",
    "        data['embedding'] = embedding.crop(segment)\n",
    "        data['segment'] = segment\n",
    "        onlineCluster.upadateCluster(data)\n",
    "    break"
   ]
  },
  {
   "cell_type": "code",
   "execution_count": 11,
   "metadata": {
    "collapsed": false
   },
   "outputs": [
    {
     "data": {
      "text/plain": [
       "['A', 'B', 'C', 'D', 'E', 'F', 'G', 'H', 'I', 'J']"
      ]
     },
     "execution_count": 11,
     "metadata": {},
     "output_type": "execute_result"
    }
   ],
   "source": [
    "onlineCluster.getLabels()"
   ]
  },
  {
   "cell_type": "code",
   "execution_count": 12,
   "metadata": {
    "collapsed": false
   },
   "outputs": [
    {
     "data": {
      "image/png": "[encoded data removed]",
      "text/plain": [
       "<pyannote.core.annotation.Annotation at 0x7fd929104d30>"
      ]
     },
     "execution_count": 12,
     "metadata": {},
     "output_type": "execute_result"
    }
   ],
   "source": [
    "onlineCluster.getAnnotations()"
   ]
  },
  {
   "cell_type": "code",
   "execution_count": 13,
   "metadata": {
    "collapsed": false
   },
   "outputs": [
    {
     "data": {
      "image/png": "[encoded data removed]",
      "text/plain": [
       "<pyannote.core.annotation.Annotation at 0x7fd92915a9e8>"
      ]
     },
     "execution_count": 13,
     "metadata": {},
     "output_type": "execute_result"
    }
   ],
   "source": [
    "annotation"
   ]
  }
 ],
 "metadata": {
  "kernelspec": {
   "display_name": "Python 3",
   "language": "python",
   "name": "python3"
  },
  "language_info": {
   "codemirror_mode": {
    "name": "ipython",
    "version": 3
   },
   "file_extension": ".py",
   "mimetype": "text/x-python",
   "name": "python",
   "nbconvert_exporter": "python",
   "pygments_lexer": "ipython3",
   "version": "3.5.3"
  }
 },
 "nbformat": 4,
 "nbformat_minor": 2
}
